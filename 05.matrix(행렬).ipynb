{
 "cells": [
  {
   "cell_type": "markdown",
   "id": "d6d61b1b",
   "metadata": {},
   "source": [
    "> 구글 드라이브\n",
    "https://colab.research.google.com/drive/1rSd8zTIwv1koIP1pRUrqHylnNkZ1AAQU \n",
    "    \n",
    " \n",
    "4월 인공지능 이산수학 pdf_124p  \n",
    "\n",
    "####  행렬 곱셈을 이해하는 필살기\n",
    "- 행렬곱은\n",
    "1. **뒤에서 곱하는 행렬**의 각 **열**의 요소를 계수로 **앞** 행렬의 **모든 열을 선형결합**\n",
    "2. **앞에서 곱하는 행렬**의 각 **행**의 요소를 계수로 **뒤** 행렬의 **모든 행을 선형결합**\n",
    "3. **앞에서 곱하는 행렬**의 각 **열**의 요소를 계수로 **뒤** 행렬의 **모든 행을 외적한 것들의 곱**"
   ]
  },
  {
   "cell_type": "code",
   "execution_count": 1,
   "id": "ff820cc4",
   "metadata": {},
   "outputs": [],
   "source": [
    "import numpy as np\n",
    "import matplotlib.pyplot as plt\n",
    "import pandas as pd"
   ]
  },
  {
   "cell_type": "markdown",
   "id": "4287c686",
   "metadata": {},
   "source": [
    "> ### 행렬과 벡터\n",
    "\n",
    "#### 1. 덧셈\n",
    "4월 인공지능 이산수학 pdf_129p"
   ]
  },
  {
   "cell_type": "code",
   "execution_count": 3,
   "id": "ce98be51",
   "metadata": {},
   "outputs": [
    {
     "data": {
      "text/plain": [
       "matrix([[11, 22],\n",
       "        [33, 44]])"
      ]
     },
     "execution_count": 3,
     "metadata": {},
     "output_type": "execute_result"
    }
   ],
   "source": [
    "# 행렬과 행렬의 덧셈은 요소끼리 덧셈\n",
    "A = np.matrix([[1,2],[3,4]])\n",
    "B = np.matrix([[10,20],[30,40]])\n",
    "\n",
    "A+B"
   ]
  },
  {
   "cell_type": "markdown",
   "id": "81db533e",
   "metadata": {},
   "source": [
    "##### 스칼라  곱셈"
   ]
  },
  {
   "cell_type": "code",
   "execution_count": 6,
   "id": "2f4e9faa",
   "metadata": {},
   "outputs": [
    {
     "data": {
      "text/plain": [
       "array([[ 30,  60],\n",
       "       [ 90, 120]])"
      ]
     },
     "execution_count": 6,
     "metadata": {},
     "output_type": "execute_result"
    }
   ],
   "source": [
    "# 행렬과 스칼라의 곱셈은 전체 요소에 곱셈\n",
    "3*B"
   ]
  },
  {
   "cell_type": "markdown",
   "id": "40dd972b",
   "metadata": {},
   "source": [
    "#### 2. 곱셉"
   ]
  },
  {
   "cell_type": "code",
   "execution_count": 7,
   "id": "cff0cef2",
   "metadata": {},
   "outputs": [
    {
     "name": "stdout",
     "output_type": "stream",
     "text": [
      "[[ 7  8]\n",
      " [19 20]]\n"
     ]
    },
    {
     "data": {
      "text/plain": [
       "matrix([[ 7,  8],\n",
       "        [19, 20]])"
      ]
     },
     "execution_count": 7,
     "metadata": {},
     "output_type": "execute_result"
    }
   ],
   "source": [
    "# 행렬과 행렬의 곱셈\n",
    "A = np.array([[1,2,3], [4,5,6]]) \n",
    "B = np.array([[2,1], [1,2], [1,1]])\n",
    "print(np.dot(A,B))\n",
    "\n",
    "# 그냥 곱하면 에러가 남 \n",
    "# A*B\n",
    "\n",
    "########################################\n",
    "# 그냥 곱하고 싶으면?\n",
    "A_ = np.matrix(A)\n",
    "B_ = np.matrix(B)\n",
    "A_*B_"
   ]
  },
  {
   "cell_type": "markdown",
   "id": "2d239445",
   "metadata": {},
   "source": [
    "#### 3. 행렬의 전치"
   ]
  },
  {
   "cell_type": "code",
   "execution_count": 14,
   "id": "c27fed67",
   "metadata": {},
   "outputs": [
    {
     "name": "stdout",
     "output_type": "stream",
     "text": [
      "A: \n",
      "[[1 2 3]\n",
      " [4 5 6]]\n",
      "\n",
      "AT:\n",
      "[[1 4]\n",
      " [2 5]\n",
      " [3 6]]\n"
     ]
    }
   ],
   "source": [
    "# 열을 행으로 행을 열로\n",
    "A = np.matrix([[1,2,3],[4,5,6]])\n",
    "print(f'A: \\n{A}')\n",
    "print()\n",
    "print(f'AT:\\n{A.T}')"
   ]
  },
  {
   "cell_type": "code",
   "execution_count": 17,
   "id": "f3b8f594",
   "metadata": {},
   "outputs": [
    {
     "name": "stdout",
     "output_type": "stream",
     "text": [
      "(A*B).T\n",
      "[[18 48]\n",
      " [20 53]]\n",
      "\n",
      "(A*B).T\n",
      "[[18 48]\n",
      " [20 53]]\n"
     ]
    }
   ],
   "source": [
    "# 곱의 전치\n",
    "B = np.matrix([[3,4],[6,5],[1,2]])\n",
    "\n",
    "print(f'(A*B).T\\n{(A*B).T}')\n",
    "print()\n",
    "print(f'(A*B).T\\n{B.T * A.T}')"
   ]
  },
  {
   "cell_type": "markdown",
   "id": "6e5adb3a",
   "metadata": {},
   "source": [
    "#### 단위행렬"
   ]
  },
  {
   "cell_type": "code",
   "execution_count": 18,
   "id": "5e46b4e3",
   "metadata": {},
   "outputs": [
    {
     "name": "stdout",
     "output_type": "stream",
     "text": [
      "[[2. 4.]\n",
      " [4. 2.]]\n",
      "[[2. 4.]\n",
      " [4. 2.]]\n"
     ]
    }
   ],
   "source": [
    "A = np.matrix([[2, 4], [4, 2]])\n",
    "I = np.matrix(np.eye(2))\n",
    "\n",
    "print(A*I)\n",
    "print(I*A)"
   ]
  },
  {
   "cell_type": "markdown",
   "id": "8cc1a1a6",
   "metadata": {},
   "source": [
    "### 행렬을 이용한 데이터 표현\n",
    "#### 테이블형 데이터"
   ]
  },
  {
   "cell_type": "code",
   "execution_count": 19,
   "id": "81933a2f",
   "metadata": {},
   "outputs": [],
   "source": [
    "from sklearn.datasets import load_iris"
   ]
  },
  {
   "cell_type": "code",
   "execution_count": 20,
   "id": "efc54b04",
   "metadata": {},
   "outputs": [
    {
     "data": {
      "text/html": [
       "<div>\n",
       "<style scoped>\n",
       "    .dataframe tbody tr th:only-of-type {\n",
       "        vertical-align: middle;\n",
       "    }\n",
       "\n",
       "    .dataframe tbody tr th {\n",
       "        vertical-align: top;\n",
       "    }\n",
       "\n",
       "    .dataframe thead th {\n",
       "        text-align: right;\n",
       "    }\n",
       "</style>\n",
       "<table border=\"1\" class=\"dataframe\">\n",
       "  <thead>\n",
       "    <tr style=\"text-align: right;\">\n",
       "      <th></th>\n",
       "      <th>sepal length (cm)</th>\n",
       "      <th>sepal width (cm)</th>\n",
       "      <th>petal length (cm)</th>\n",
       "      <th>petal width (cm)</th>\n",
       "    </tr>\n",
       "  </thead>\n",
       "  <tbody>\n",
       "    <tr>\n",
       "      <th>0</th>\n",
       "      <td>5.1</td>\n",
       "      <td>3.5</td>\n",
       "      <td>1.4</td>\n",
       "      <td>0.2</td>\n",
       "    </tr>\n",
       "    <tr>\n",
       "      <th>1</th>\n",
       "      <td>4.9</td>\n",
       "      <td>3.0</td>\n",
       "      <td>1.4</td>\n",
       "      <td>0.2</td>\n",
       "    </tr>\n",
       "    <tr>\n",
       "      <th>2</th>\n",
       "      <td>4.7</td>\n",
       "      <td>3.2</td>\n",
       "      <td>1.3</td>\n",
       "      <td>0.2</td>\n",
       "    </tr>\n",
       "    <tr>\n",
       "      <th>3</th>\n",
       "      <td>4.6</td>\n",
       "      <td>3.1</td>\n",
       "      <td>1.5</td>\n",
       "      <td>0.2</td>\n",
       "    </tr>\n",
       "    <tr>\n",
       "      <th>4</th>\n",
       "      <td>5.0</td>\n",
       "      <td>3.6</td>\n",
       "      <td>1.4</td>\n",
       "      <td>0.2</td>\n",
       "    </tr>\n",
       "    <tr>\n",
       "      <th>...</th>\n",
       "      <td>...</td>\n",
       "      <td>...</td>\n",
       "      <td>...</td>\n",
       "      <td>...</td>\n",
       "    </tr>\n",
       "    <tr>\n",
       "      <th>145</th>\n",
       "      <td>6.7</td>\n",
       "      <td>3.0</td>\n",
       "      <td>5.2</td>\n",
       "      <td>2.3</td>\n",
       "    </tr>\n",
       "    <tr>\n",
       "      <th>146</th>\n",
       "      <td>6.3</td>\n",
       "      <td>2.5</td>\n",
       "      <td>5.0</td>\n",
       "      <td>1.9</td>\n",
       "    </tr>\n",
       "    <tr>\n",
       "      <th>147</th>\n",
       "      <td>6.5</td>\n",
       "      <td>3.0</td>\n",
       "      <td>5.2</td>\n",
       "      <td>2.0</td>\n",
       "    </tr>\n",
       "    <tr>\n",
       "      <th>148</th>\n",
       "      <td>6.2</td>\n",
       "      <td>3.4</td>\n",
       "      <td>5.4</td>\n",
       "      <td>2.3</td>\n",
       "    </tr>\n",
       "    <tr>\n",
       "      <th>149</th>\n",
       "      <td>5.9</td>\n",
       "      <td>3.0</td>\n",
       "      <td>5.1</td>\n",
       "      <td>1.8</td>\n",
       "    </tr>\n",
       "  </tbody>\n",
       "</table>\n",
       "<p>150 rows × 4 columns</p>\n",
       "</div>"
      ],
      "text/plain": [
       "     sepal length (cm)  sepal width (cm)  petal length (cm)  petal width (cm)\n",
       "0                  5.1               3.5                1.4               0.2\n",
       "1                  4.9               3.0                1.4               0.2\n",
       "2                  4.7               3.2                1.3               0.2\n",
       "3                  4.6               3.1                1.5               0.2\n",
       "4                  5.0               3.6                1.4               0.2\n",
       "..                 ...               ...                ...               ...\n",
       "145                6.7               3.0                5.2               2.3\n",
       "146                6.3               2.5                5.0               1.9\n",
       "147                6.5               3.0                5.2               2.0\n",
       "148                6.2               3.4                5.4               2.3\n",
       "149                5.9               3.0                5.1               1.8\n",
       "\n",
       "[150 rows x 4 columns]"
      ]
     },
     "execution_count": 20,
     "metadata": {},
     "output_type": "execute_result"
    }
   ],
   "source": [
    "data = load_iris()\n",
    "\n",
    "pd.DataFrame(data.data, columns = data.feature_names)"
   ]
  },
  {
   "cell_type": "markdown",
   "id": "f137e517",
   "metadata": {},
   "source": [
    "#### 이미지"
   ]
  },
  {
   "cell_type": "code",
   "execution_count": 21,
   "id": "1240b948",
   "metadata": {},
   "outputs": [
    {
     "name": "stdout",
     "output_type": "stream",
     "text": [
      "zsh:1: command not found: gdown\r\n"
     ]
    }
   ],
   "source": [
    "!gdown --id 1ycxVgUkjUy4UX8KhXTfJ1QoENIz_zRYv"
   ]
  },
  {
   "cell_type": "code",
   "execution_count": 22,
   "id": "f7f87f31",
   "metadata": {},
   "outputs": [],
   "source": [
    "import matplotlib as mpl"
   ]
  },
  {
   "cell_type": "code",
   "execution_count": 25,
   "id": "6a9ad035",
   "metadata": {},
   "outputs": [],
   "source": [
    "old_python = mpl.image.imread('old_python.png')"
   ]
  },
  {
   "cell_type": "code",
   "execution_count": null,
   "id": "d3719501",
   "metadata": {},
   "outputs": [],
   "source": [
    "old_python.shape"
   ]
  },
  {
   "cell_type": "code",
   "execution_count": null,
   "id": "51d69d14",
   "metadata": {},
   "outputs": [],
   "source": [
    "fig, ax = plt.subplots(figsize=(15,5), nrows=1, ncols=5)\n",
    "\n",
    "ch = ['Red', 'Green', 'Blue', 'Alpha']\n",
    "cm = ['Reds', 'Greens', 'Blues', 'binary']\n",
    "\n",
    "for i, ax_i in enumerate(ax[:-1]):\n",
    "    ax_i.imshow(old_python[:,:,i], cmap=cm[i])\n",
    "    ax_i.set_title(ch[i])\n",
    "\n",
    "ax[-1].imshow(old_python)\n",
    "\n",
    "plt.show()`"
   ]
  },
  {
   "cell_type": "markdown",
   "id": "a6b06a58",
   "metadata": {},
   "source": [
    "## 행렬곱\n",
    "### 열결합"
   ]
  },
  {
   "cell_type": "code",
   "execution_count": 31,
   "id": "8560365e",
   "metadata": {},
   "outputs": [
    {
     "name": "stdout",
     "output_type": "stream",
     "text": [
      "A\n",
      "[[2 3 3]\n",
      " [8 9 4]\n",
      " [4 6 8]\n",
      " [7 7 3]]\n",
      "B\n",
      "[8 5 7]\n",
      "\n",
      "[ 52 137 118 112]\n"
     ]
    }
   ],
   "source": [
    "A = np.random.randint(1,10,12).reshape(4,3)\n",
    "B = np.random.randint(1,10,3)\n",
    "print(f'A\\n{A}')\n",
    "print(f'B\\n{B}')\n",
    "print()\n",
    "print(np.dot(A,B))"
   ]
  },
  {
   "cell_type": "code",
   "execution_count": 32,
   "id": "02bd6e27",
   "metadata": {},
   "outputs": [
    {
     "name": "stdout",
     "output_type": "stream",
     "text": [
      "(4, 3)\n",
      "[8 9 4]\n"
     ]
    }
   ],
   "source": [
    "print(A.shape) # 4x3행랼\n",
    "print(A[1,:])"
   ]
  },
  {
   "cell_type": "code",
   "execution_count": 34,
   "id": "4a7e1f48",
   "metadata": {},
   "outputs": [
    {
     "data": {
      "text/plain": [
       "array([ 52, 137, 118, 112])"
      ]
     },
     "execution_count": 34,
     "metadata": {},
     "output_type": "execute_result"
    }
   ],
   "source": [
    "# 행렬*벡터 열 결합 [+]\n",
    "c = np.zeros(4, dtype=int)\n",
    "for i in range(A.shape[1]):\n",
    "    c += A[:,i]*B[i]\n",
    "    \n",
    "c"
   ]
  },
  {
   "cell_type": "code",
   "execution_count": 35,
   "id": "1a6c383d",
   "metadata": {},
   "outputs": [
    {
     "data": {
      "text/plain": [
       "array([[ 64,  84],\n",
       "       [ 97, 141],\n",
       "       [ 50,  84],\n",
       "       [120, 141]])"
      ]
     },
     "execution_count": 35,
     "metadata": {},
     "output_type": "execute_result"
    }
   ],
   "source": [
    "# 열결합 방법 1\n",
    "A = np.random.randint(1,10,12).reshape(4,3)\n",
    "B = np.random.randint(1,10,6).reshape(3,2)\n",
    "np.dot(A,B)"
   ]
  },
  {
   "cell_type": "code",
   "execution_count": 36,
   "id": "aa0f0a48",
   "metadata": {},
   "outputs": [
    {
     "name": "stdout",
     "output_type": "stream",
     "text": [
      "[[ 64.  84.]\n",
      " [ 97. 141.]\n",
      " [ 50.  84.]\n",
      " [120. 141.]]\n"
     ]
    }
   ],
   "source": [
    "# 열결합 방법 2\n",
    "C = np.zeros((4,2))\n",
    "\n",
    "# 행렬*행렬 열결합 [+]\n",
    "for j in range(B.shape[1]): # b를 중심으로 돈다 \n",
    "    c = np.zeros(4, dtype=int) # 0으로 채워진 행렬에 곱\n",
    "    for i in range(A.shape[1]):  # a를 중심으로 돈다(a원소들 곱함) \n",
    "        c += A[:,i]*B[i,j]\n",
    "\n",
    "    C[:,j] = c\n",
    "\n",
    "print(C)"
   ]
  },
  {
   "cell_type": "markdown",
   "id": "f774b450",
   "metadata": {},
   "source": [
    "### 행 결합"
   ]
  },
  {
   "cell_type": "code",
   "execution_count": 37,
   "id": "7f6b7de0",
   "metadata": {},
   "outputs": [
    {
     "data": {
      "text/plain": [
       "array([[ 64,  97,  50, 120],\n",
       "       [ 84, 141,  84, 141]])"
      ]
     },
     "execution_count": 37,
     "metadata": {},
     "output_type": "execute_result"
    }
   ],
   "source": [
    "# 방법1\n",
    "At = A.T\n",
    "Bt = B.T\n",
    "\n",
    "np.dot(Bt,At)# dot = 곱해"
   ]
  },
  {
   "cell_type": "code",
   "execution_count": 38,
   "id": "fb87ec55",
   "metadata": {},
   "outputs": [
    {
     "name": "stdout",
     "output_type": "stream",
     "text": [
      "[[ 64.  97.  50. 120.]\n",
      " [ 84. 141.  84. 141.]]\n"
     ]
    }
   ],
   "source": [
    "#  방법2\n",
    "C = np.zeros((2,4))\n",
    "\n",
    "# 행렬*행렬 행결합 [+]\n",
    "for i in range(Bt.shape[0]):\n",
    "    c = np.zeros(4, dtype=int)\n",
    "    for j in range(At.shape[0]):\n",
    "        c += Bt[i,j] * At[j,:]\n",
    "\n",
    "    C[i,:] = c\n",
    "\n",
    "print(C)"
   ]
  },
  {
   "cell_type": "markdown",
   "id": "3e4db9a9",
   "metadata": {},
   "source": [
    "### 외적합"
   ]
  },
  {
   "cell_type": "code",
   "execution_count": 39,
   "id": "ca047ae5",
   "metadata": {},
   "outputs": [
    {
     "name": "stdout",
     "output_type": "stream",
     "text": [
      "[[7 8 1]\n",
      " [7 3 7]\n",
      " [9 3 8]\n",
      " [7 5 4]]\n",
      "[[1 8]\n",
      " [7 4]\n",
      " [7 4]]\n"
     ]
    },
    {
     "data": {
      "text/plain": [
       "array([[ 70,  92],\n",
       "       [ 77,  96],\n",
       "       [ 86, 116],\n",
       "       [ 70,  92]])"
      ]
     },
     "execution_count": 39,
     "metadata": {},
     "output_type": "execute_result"
    }
   ],
   "source": [
    "# 방법1\n",
    "A = np.random.randint(1,10,12).reshape(4,3) # 1부터 10까지 12개원소, 4행3열로 랜덤 생성\n",
    "B = np.random.randint(1,10,6).reshape(3,2)\n",
    "print(A)\n",
    "print(B)\n",
    "np.dot(A,B)"
   ]
  },
  {
   "cell_type": "code",
   "execution_count": 40,
   "id": "5780f857",
   "metadata": {},
   "outputs": [
    {
     "name": "stdout",
     "output_type": "stream",
     "text": [
      "[[ 70.  92.]\n",
      " [ 77.  96.]\n",
      " [ 86. 116.]\n",
      " [ 70.  92.]]\n"
     ]
    }
   ],
   "source": [
    "# 방법2\n",
    "C = np.zeros((4,2))\n",
    "\n",
    "# 행렬*행렬 외적합[+]\n",
    "for j in range(A.shape[1]):\n",
    "    C += np.dot(A[:,[j]], B[[j],:]) # a의 모든 열, b의 모든 행을 곱하여 c에 더함\n",
    "\n",
    "print(C)"
   ]
  },
  {
   "cell_type": "markdown",
   "id": "4297220a",
   "metadata": {},
   "source": [
    "## 인공신경망의 행렬 표현\n",
    "### 데이터 로딩"
   ]
  },
  {
   "cell_type": "code",
   "execution_count": 43,
   "id": "79d22842",
   "metadata": {},
   "outputs": [
    {
     "data": {
      "text/html": [
       "<div>\n",
       "<style scoped>\n",
       "    .dataframe tbody tr th:only-of-type {\n",
       "        vertical-align: middle;\n",
       "    }\n",
       "\n",
       "    .dataframe tbody tr th {\n",
       "        vertical-align: top;\n",
       "    }\n",
       "\n",
       "    .dataframe thead th {\n",
       "        text-align: right;\n",
       "    }\n",
       "</style>\n",
       "<table border=\"1\" class=\"dataframe\">\n",
       "  <thead>\n",
       "    <tr style=\"text-align: right;\">\n",
       "      <th></th>\n",
       "      <th>x</th>\n",
       "      <th>y</th>\n",
       "      <th>target</th>\n",
       "      <th>bias</th>\n",
       "    </tr>\n",
       "  </thead>\n",
       "  <tbody>\n",
       "    <tr>\n",
       "      <th>0</th>\n",
       "      <td>2.7540</td>\n",
       "      <td>3.5407</td>\n",
       "      <td>1.0</td>\n",
       "      <td>1</td>\n",
       "    </tr>\n",
       "    <tr>\n",
       "      <th>1</th>\n",
       "      <td>1.4545</td>\n",
       "      <td>2.5541</td>\n",
       "      <td>1.0</td>\n",
       "      <td>1</td>\n",
       "    </tr>\n",
       "    <tr>\n",
       "      <th>2</th>\n",
       "      <td>4.4647</td>\n",
       "      <td>4.4815</td>\n",
       "      <td>1.0</td>\n",
       "      <td>1</td>\n",
       "    </tr>\n",
       "    <tr>\n",
       "      <th>3</th>\n",
       "      <td>0.6279</td>\n",
       "      <td>1.0362</td>\n",
       "      <td>0.0</td>\n",
       "      <td>1</td>\n",
       "    </tr>\n",
       "    <tr>\n",
       "      <th>4</th>\n",
       "      <td>0.2573</td>\n",
       "      <td>2.2040</td>\n",
       "      <td>0.0</td>\n",
       "      <td>1</td>\n",
       "    </tr>\n",
       "    <tr>\n",
       "      <th>...</th>\n",
       "      <td>...</td>\n",
       "      <td>...</td>\n",
       "      <td>...</td>\n",
       "      <td>...</td>\n",
       "    </tr>\n",
       "    <tr>\n",
       "      <th>495</th>\n",
       "      <td>4.5226</td>\n",
       "      <td>3.8735</td>\n",
       "      <td>1.0</td>\n",
       "      <td>1</td>\n",
       "    </tr>\n",
       "    <tr>\n",
       "      <th>496</th>\n",
       "      <td>4.8601</td>\n",
       "      <td>1.1903</td>\n",
       "      <td>1.0</td>\n",
       "      <td>1</td>\n",
       "    </tr>\n",
       "    <tr>\n",
       "      <th>497</th>\n",
       "      <td>0.6119</td>\n",
       "      <td>1.2026</td>\n",
       "      <td>0.0</td>\n",
       "      <td>1</td>\n",
       "    </tr>\n",
       "    <tr>\n",
       "      <th>498</th>\n",
       "      <td>2.9004</td>\n",
       "      <td>1.8535</td>\n",
       "      <td>1.0</td>\n",
       "      <td>1</td>\n",
       "    </tr>\n",
       "    <tr>\n",
       "      <th>499</th>\n",
       "      <td>0.1758</td>\n",
       "      <td>0.6235</td>\n",
       "      <td>0.0</td>\n",
       "      <td>1</td>\n",
       "    </tr>\n",
       "  </tbody>\n",
       "</table>\n",
       "<p>500 rows × 4 columns</p>\n",
       "</div>"
      ],
      "text/plain": [
       "          x       y  target  bias\n",
       "0    2.7540  3.5407     1.0     1\n",
       "1    1.4545  2.5541     1.0     1\n",
       "2    4.4647  4.4815     1.0     1\n",
       "3    0.6279  1.0362     0.0     1\n",
       "4    0.2573  2.2040     0.0     1\n",
       "..      ...     ...     ...   ...\n",
       "495  4.5226  3.8735     1.0     1\n",
       "496  4.8601  1.1903     1.0     1\n",
       "497  0.6119  1.2026     0.0     1\n",
       "498  2.9004  1.8535     1.0     1\n",
       "499  0.1758  0.6235     0.0     1\n",
       "\n",
       "[500 rows x 4 columns]"
      ]
     },
     "execution_count": 43,
     "metadata": {},
     "output_type": "execute_result"
    }
   ],
   "source": [
    "data = pd.read_csv('data.csv', names=['x','y','target'])\n",
    "data['bias'] = 1\n",
    "data"
   ]
  },
  {
   "cell_type": "code",
   "execution_count": 44,
   "id": "3da515ee",
   "metadata": {},
   "outputs": [
    {
     "data": {
      "image/png": "[encoded data removed]",
      "text/plain": [
       "<Figure size 360x360 with 1 Axes>"
      ]
     },
     "metadata": {
      "needs_background": "light"
     },
     "output_type": "display_data"
    }
   ],
   "source": [
    "fig = plt.figure(figsize=(5,5))\n",
    "ax = plt.axes()\n",
    "\n",
    "ax.plot(data[data['target']==1]['x'], data[data['target']==1]['y'], 'o')\n",
    "ax.plot(data[data['target']==0]['x'], data[data['target']==0]['y'], 'x')\n",
    "\n",
    "plt.show()"
   ]
  },
  {
   "cell_type": "code",
   "execution_count": 45,
   "id": "c2896e6d",
   "metadata": {},
   "outputs": [],
   "source": [
    "X = data[['bias', 'x', 'y']].to_numpy()\n",
    "y = data['target']"
   ]
  },
  {
   "cell_type": "markdown",
   "id": "eebabefe",
   "metadata": {},
   "source": [
    "#### 점 하나씩 계산"
   ]
  },
  {
   "cell_type": "code",
   "execution_count": 46,
   "id": "e7bca2a3",
   "metadata": {},
   "outputs": [
    {
     "name": "stdout",
     "output_type": "stream",
     "text": [
      "[9.99982712e-01 1.06623499e-04]\n",
      "[1.00000000e+00 9.99982712e-01 1.06623499e-04]\n"
     ]
    },
    {
     "data": {
      "text/plain": [
       "(array([0.99999917]), 1.0)"
      ]
     },
     "execution_count": 46,
     "metadata": {},
     "output_type": "execute_result"
    }
   ],
   "source": [
    "def sigmoid(x):\n",
    "    return 1 / (1+np.exp(-x))\n",
    "\n",
    "W1 = np.array([\n",
    "    [-15, 3, 5],\n",
    "    [18, -6, -3]              \n",
    "])\n",
    "\n",
    "W2 = np.array([\n",
    "    [4, 10, -9]\n",
    "])\n",
    "\n",
    "# 0번 점에 대해서만 계산, 엑셀 시트와 똑같은 상황[+]\n",
    "a = sigmoid( np.dot(W1, X[0].T) )\n",
    "print(a)\n",
    "a = np.concatenate(([1], a))\n",
    "print(a)\n",
    "y_hat = sigmoid( np.dot(W2, a) )\n",
    "\n",
    "y_hat, y[0]"
   ]
  },
  {
   "cell_type": "markdown",
   "id": "1de52261",
   "metadata": {},
   "source": [
    "#### 모든 점을 한번에 계산"
   ]
  },
  {
   "cell_type": "code",
   "execution_count": 47,
   "id": "1188023c",
   "metadata": {},
   "outputs": [
    {
     "name": "stdout",
     "output_type": "stream",
     "text": [
      "(2, 500)\n",
      "(3, 500)\n"
     ]
    }
   ],
   "source": [
    "# 행렬곱으로 모든점을 한번에 계산[+]\n",
    "a = sigmoid( np.dot(W1, X.T) )\n",
    "print(a.shape)\n",
    "a = np.concatenate((np.ones(500).reshape(1,-1), a))\n",
    "print(a.shape)\n",
    "y_hat = sigmoid( np.dot(W2, a) )"
   ]
  },
  {
   "cell_type": "code",
   "execution_count": 48,
   "id": "c11c97fe",
   "metadata": {},
   "outputs": [
    {
     "data": {
      "text/html": [
       "<div>\n",
       "<style scoped>\n",
       "    .dataframe tbody tr th:only-of-type {\n",
       "        vertical-align: middle;\n",
       "    }\n",
       "\n",
       "    .dataframe tbody tr th {\n",
       "        vertical-align: top;\n",
       "    }\n",
       "\n",
       "    .dataframe thead th {\n",
       "        text-align: right;\n",
       "    }\n",
       "</style>\n",
       "<table border=\"1\" class=\"dataframe\">\n",
       "  <thead>\n",
       "    <tr style=\"text-align: right;\">\n",
       "      <th></th>\n",
       "      <th>0</th>\n",
       "      <th>1</th>\n",
       "    </tr>\n",
       "  </thead>\n",
       "  <tbody>\n",
       "    <tr>\n",
       "      <th>0</th>\n",
       "      <td>0.999999</td>\n",
       "      <td>1.0</td>\n",
       "    </tr>\n",
       "    <tr>\n",
       "      <th>1</th>\n",
       "      <td>0.995680</td>\n",
       "      <td>1.0</td>\n",
       "    </tr>\n",
       "    <tr>\n",
       "      <th>2</th>\n",
       "      <td>0.999999</td>\n",
       "      <td>1.0</td>\n",
       "    </tr>\n",
       "    <tr>\n",
       "      <th>3</th>\n",
       "      <td>0.006718</td>\n",
       "      <td>0.0</td>\n",
       "    </tr>\n",
       "    <tr>\n",
       "      <th>4</th>\n",
       "      <td>0.009845</td>\n",
       "      <td>0.0</td>\n",
       "    </tr>\n",
       "    <tr>\n",
       "      <th>...</th>\n",
       "      <td>...</td>\n",
       "      <td>...</td>\n",
       "    </tr>\n",
       "    <tr>\n",
       "      <th>495</th>\n",
       "      <td>0.999999</td>\n",
       "      <td>1.0</td>\n",
       "    </tr>\n",
       "    <tr>\n",
       "      <th>496</th>\n",
       "      <td>0.999999</td>\n",
       "      <td>1.0</td>\n",
       "    </tr>\n",
       "    <tr>\n",
       "      <th>497</th>\n",
       "      <td>0.006746</td>\n",
       "      <td>0.0</td>\n",
       "    </tr>\n",
       "    <tr>\n",
       "      <th>498</th>\n",
       "      <td>0.999999</td>\n",
       "      <td>1.0</td>\n",
       "    </tr>\n",
       "    <tr>\n",
       "      <th>499</th>\n",
       "      <td>0.006694</td>\n",
       "      <td>0.0</td>\n",
       "    </tr>\n",
       "  </tbody>\n",
       "</table>\n",
       "<p>500 rows × 2 columns</p>\n",
       "</div>"
      ],
      "text/plain": [
       "            0    1\n",
       "0    0.999999  1.0\n",
       "1    0.995680  1.0\n",
       "2    0.999999  1.0\n",
       "3    0.006718  0.0\n",
       "4    0.009845  0.0\n",
       "..        ...  ...\n",
       "495  0.999999  1.0\n",
       "496  0.999999  1.0\n",
       "497  0.006746  0.0\n",
       "498  0.999999  1.0\n",
       "499  0.006694  0.0\n",
       "\n",
       "[500 rows x 2 columns]"
      ]
     },
     "execution_count": 48,
     "metadata": {},
     "output_type": "execute_result"
    }
   ],
   "source": [
    "pd.DataFrame([y_hat[0],y]).T"
   ]
  },
  {
   "cell_type": "code",
   "execution_count": 49,
   "id": "39579ce5",
   "metadata": {},
   "outputs": [
    {
     "data": {
      "text/plain": [
       "array([ True,  True,  True, False, False, False,  True,  True, False,\n",
       "       False,  True, False,  True, False,  True,  True,  True, False,\n",
       "        True, False,  True, False,  True,  True,  True, False, False,\n",
       "        True,  True,  True,  True,  True,  True, False,  True,  True,\n",
       "        True,  True, False, False,  True,  True,  True,  True,  True,\n",
       "        True,  True,  True,  True,  True,  True,  True,  True, False,\n",
       "        True,  True, False,  True,  True, False,  True,  True,  True,\n",
       "        True, False,  True,  True, False,  True, False,  True,  True,\n",
       "        True,  True,  True,  True,  True,  True,  True, False,  True,\n",
       "        True,  True,  True,  True,  True,  True, False,  True,  True,\n",
       "        True,  True,  True, False,  True, False,  True,  True, False,\n",
       "        True, False, False, False,  True,  True,  True,  True, False,\n",
       "        True, False, False,  True,  True, False,  True,  True,  True,\n",
       "       False,  True,  True,  True, False, False,  True,  True,  True,\n",
       "        True,  True,  True,  True,  True,  True,  True,  True,  True,\n",
       "        True, False,  True,  True,  True,  True,  True,  True,  True,\n",
       "        True,  True,  True, False,  True,  True,  True,  True,  True,\n",
       "        True,  True,  True, False, False, False,  True,  True,  True,\n",
       "        True,  True,  True,  True,  True,  True,  True,  True,  True,\n",
       "        True, False,  True,  True, False,  True,  True, False,  True,\n",
       "        True,  True,  True, False,  True,  True,  True,  True, False,\n",
       "        True,  True,  True, False,  True,  True,  True, False,  True,\n",
       "        True,  True,  True,  True,  True,  True,  True,  True,  True,\n",
       "        True,  True, False,  True,  True,  True,  True, False,  True,\n",
       "        True,  True,  True,  True,  True,  True,  True,  True,  True,\n",
       "        True,  True,  True,  True, False,  True,  True,  True,  True,\n",
       "        True,  True,  True,  True, False,  True,  True, False,  True,\n",
       "       False, False,  True,  True,  True,  True,  True, False,  True,\n",
       "        True,  True,  True,  True,  True,  True, False, False, False,\n",
       "        True,  True,  True, False,  True,  True, False,  True,  True,\n",
       "        True,  True,  True, False,  True,  True,  True,  True, False,\n",
       "        True,  True,  True,  True,  True,  True,  True,  True,  True,\n",
       "        True,  True, False,  True, False, False,  True, False, False,\n",
       "        True,  True, False, False, False,  True,  True,  True, False,\n",
       "        True,  True,  True,  True,  True,  True,  True,  True,  True,\n",
       "        True, False,  True,  True,  True,  True, False, False,  True,\n",
       "        True,  True,  True,  True,  True,  True,  True,  True,  True,\n",
       "        True,  True,  True,  True, False,  True,  True, False,  True,\n",
       "       False,  True,  True, False, False,  True,  True, False, False,\n",
       "        True,  True,  True, False,  True,  True,  True,  True,  True,\n",
       "        True,  True,  True,  True,  True,  True,  True,  True,  True,\n",
       "        True, False,  True,  True,  True,  True,  True,  True,  True,\n",
       "        True,  True,  True,  True,  True,  True,  True, False,  True,\n",
       "        True,  True,  True, False,  True,  True,  True,  True, False,\n",
       "       False,  True,  True,  True, False,  True,  True,  True, False,\n",
       "       False,  True,  True,  True,  True,  True,  True,  True,  True,\n",
       "        True,  True,  True,  True,  True,  True,  True,  True,  True,\n",
       "       False,  True,  True,  True,  True, False,  True, False,  True,\n",
       "        True,  True,  True,  True,  True, False,  True, False,  True,\n",
       "       False,  True,  True,  True,  True,  True,  True,  True,  True,\n",
       "        True,  True,  True,  True,  True,  True,  True, False,  True,\n",
       "       False,  True,  True,  True,  True,  True,  True,  True, False,\n",
       "        True,  True,  True,  True, False,  True,  True, False,  True,\n",
       "        True,  True,  True,  True,  True,  True,  True,  True, False,\n",
       "        True,  True,  True, False,  True,  True,  True,  True,  True,\n",
       "        True,  True, False,  True, False])"
      ]
     },
     "execution_count": 49,
     "metadata": {},
     "output_type": "execute_result"
    }
   ],
   "source": [
    "y_hat = y_hat[0] >= 0.5\n",
    "y_hat"
   ]
  },
  {
   "cell_type": "code",
   "execution_count": 50,
   "id": "c274f1a9",
   "metadata": {},
   "outputs": [
    {
     "data": {
      "text/plain": [
       "2"
      ]
     },
     "execution_count": 50,
     "metadata": {},
     "output_type": "execute_result"
    }
   ],
   "source": [
    "(y_hat != y).sum()"
   ]
  },
  {
   "cell_type": "code",
   "execution_count": null,
   "id": "7a85256d",
   "metadata": {},
   "outputs": [],
   "source": []
  }
 ],
 "metadata": {
  "kernelspec": {
   "display_name": "Python 3 (ipykernel)",
   "language": "python",
   "name": "python3"
  },
  "language_info": {
   "codemirror_mode": {
    "name": "ipython",
    "version": 3
   },
   "file_extension": ".py",
   "mimetype": "text/x-python",
   "name": "python",
   "nbconvert_exporter": "python",
   "pygments_lexer": "ipython3",
   "version": "3.8.13"
  }
 },
 "nbformat": 4,
 "nbformat_minor": 5
}
