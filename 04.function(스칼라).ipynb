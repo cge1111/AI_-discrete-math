{
 "cells": [
  {
   "cell_type": "markdown",
   "id": "17d6e3a8",
   "metadata": {},
   "source": [
    "> 구글 드라이브 \n",
    "https://colab.research.google.com/drive/1pQ2BLEfIaYoNbV1b77F02O9mlO5yDVSE#scrollTo=9zW-soCewqH9\n",
    "\n",
    "4월 인공지능 이산수학 pdf_88p"
   ]
  },
  {
   "cell_type": "code",
   "execution_count": 1,
   "id": "e292acc7",
   "metadata": {},
   "outputs": [],
   "source": [
    "import numpy as np\n",
    "import matplotlib.pyplot as plt"
   ]
  },
  {
   "cell_type": "markdown",
   "id": "aed93556",
   "metadata": {},
   "source": [
    "## 알바생 A or B"
   ]
  },
  {
   "cell_type": "code",
   "execution_count": 3,
   "id": "466c2ce3",
   "metadata": {},
   "outputs": [
    {
     "name": "stdout",
     "output_type": "stream",
     "text": [
      "93,000,000\n"
     ]
    }
   ],
   "source": [
    "days = 31\n",
    "\n",
    "A = np.array([3000000 for i in range(days)])\n",
    "print(f'{np.sum(A):,d}')"
   ]
  },
  {
   "cell_type": "code",
   "execution_count": 4,
   "id": "1de23bd8",
   "metadata": {},
   "outputs": [
    {
     "name": "stdout",
     "output_type": "stream",
     "text": [
      "2,147,483,647\n"
     ]
    }
   ],
   "source": [
    "B = np.array([2**i for i in range(days)])\n",
    "print(f'{np.sum(B):,d}')"
   ]
  },
  {
   "cell_type": "code",
   "execution_count": 6,
   "id": "4da4ca9c",
   "metadata": {},
   "outputs": [
    {
     "data": {
      "image/png": "[encoded data removed]",
      "text/plain": [
       "<Figure size 360x720 with 1 Axes>"
      ]
     },
     "metadata": {
      "needs_background": "light"
     },
     "output_type": "display_data"
    }
   ],
   "source": [
    "fig = plt.figure(figsize=(5,10))\n",
    "ax = plt.axes()\n",
    "\n",
    "ax.plot(range(days), np.cumsum(A), label = 'A') # cumsum:누적해서 더한다.\n",
    "ax.plot(range(days), np.cumsum(B), label = 'B') \n",
    "ax.legend()\n",
    "\n",
    "plt.show()"
   ]
  },
  {
   "cell_type": "markdown",
   "id": "524c6b9b",
   "metadata": {},
   "source": [
    "## MSE(평균제곱오차) vs MSLE\n",
    "\n",
    "<img src=\"https://miro.medium.com/max/1400/1*BtVajQNj29LkVySEWR_4ww.png\" width=\"450\" style=\"float:left\" />\n",
    "\n",
    "<img src = \"https://lindevs.com/wp-content/uploads/2020/10/formula_to_calculate_msle.png\" width = \"450\" style = \"float:left\"/>"
   ]
  },
  {
   "cell_type": "code",
   "execution_count": 8,
   "id": "7683ea22",
   "metadata": {},
   "outputs": [
    {
     "name": "stdout",
     "output_type": "stream",
     "text": [
      "mse 1:25.000000\n",
      "mse 2:25.000000\n",
      "msle 1:0.140395\n",
      "msle 2:0.000025\n"
     ]
    }
   ],
   "source": [
    "gt_1 = 10\n",
    "pred_1 = 15\n",
    "\n",
    "gt_2 = 1000\n",
    "pred_2 = 1005\n",
    "\n",
    "def mse(pred, gt):\n",
    "    return (pred - gt)**2\n",
    "\n",
    "def msle(pred, gt):\n",
    "    return (np.log(pred+1) - np.log(gt+1))**2\n",
    "\n",
    "print(f\"mse 1:{mse(pred_1, gt_1):.6f}\")\n",
    "print(f\"mse 2:{mse(pred_2, gt_2):.6f}\")\n",
    "\n",
    "print(f\"msle 1:{msle(pred_1, gt_1):.6f}\")\n",
    "print(f\"msle 2:{msle(pred_2, gt_2):.6f}\")"
   ]
  },
  {
   "cell_type": "markdown",
   "id": "4ccdac7a",
   "metadata": {},
   "source": [
    "## 2 변수 스칼라 함수 시각화\n",
    "4월 인공지능 이산수학 pdf_97p"
   ]
  },
  {
   "cell_type": "code",
   "execution_count": 9,
   "id": "cd1046a3",
   "metadata": {},
   "outputs": [],
   "source": [
    "from ipywidgets import interact\n",
    "import ipywidgets as widgets"
   ]
  },
  {
   "cell_type": "code",
   "execution_count": 10,
   "id": "509edb05",
   "metadata": {},
   "outputs": [
    {
     "data": {
      "application/vnd.jupyter.widget-view+json": {
       "model_id": "cced712f29e3422e8c449171ad86cf61",
       "version_major": 2,
       "version_minor": 0
      },
      "text/plain": [
       "interactive(children=(IntSlider(value=2, description='x', max=20, min=2), Output()), _dom_classes=('widget-int…"
      ]
     },
     "metadata": {},
     "output_type": "display_data"
    }
   ],
   "source": [
    "@interact( x=widgets.IntSlider(min=2, max=20, step=1, value=2) )\n",
    "def draw_func(x):\n",
    "    fig = plt.figure(figsize=(7,7))\n",
    "    ax = plt.axes(projection='3d')\n",
    "\n",
    "    ax.xaxis.set_tick_params(labelsize=15)\n",
    "    ax.yaxis.set_tick_params(labelsize=15)\n",
    "    ax.zaxis.set_tick_params(labelsize=15)\n",
    "    ax.set_xlabel(r'$x_1$', fontsize=20)\n",
    "    ax.set_ylabel(r'$x_2$', fontsize=20)\n",
    "    ax.set_zlabel(r'$z$', fontsize=20)\n",
    "\n",
    "    x1 = np.linspace(-2, 2, x)\n",
    "    x2 = np.linspace(-1, 3, x)\n",
    "    X1, X2 = np.meshgrid(x1, x2)\n",
    "    Z = 50*(X2 - X1**2)**2 + (2-X1)**2\n",
    "\n",
    "    # ax.scatter3D(X1, X2, Z, marker='.', color='C1')\n",
    "    ax.plot_surface(X1, X2, Z, cmap=plt.cm.binary, edgecolor=\"k\")\n",
    "\n",
    "    plt.show()"
   ]
  },
  {
   "cell_type": "code",
   "execution_count": null,
   "id": "6c0b4eea",
   "metadata": {},
   "outputs": [],
   "source": []
  }
 ],
 "metadata": {
  "kernelspec": {
   "display_name": "Python 3 (ipykernel)",
   "language": "python",
   "name": "python3"
  },
  "language_info": {
   "codemirror_mode": {
    "name": "ipython",
    "version": 3
   },
   "file_extension": ".py",
   "mimetype": "text/x-python",
   "name": "python",
   "nbconvert_exporter": "python",
   "pygments_lexer": "ipython3",
   "version": "3.8.13"
  }
 },
 "nbformat": 4,
 "nbformat_minor": 5
}
