{
 "cells": [
  {
   "cell_type": "markdown",
   "id": "bb77aff7",
   "metadata": {},
   "source": [
    "> 구글 드라이브 참고\n",
    "https://colab.research.google.com/drive/1T5S6eFif45YrW25pY4Q-0e7wN0UWbuH9#scrollTo=eBlGOmuv4c9W\n",
    "\n",
    "4월 인공지능 이산수학 pdf_64p"
   ]
  },
  {
   "cell_type": "code",
   "execution_count": 3,
   "id": "ff1ed1a0",
   "metadata": {},
   "outputs": [],
   "source": [
    "import numpy as np"
   ]
  },
  {
   "cell_type": "code",
   "execution_count": 4,
   "id": "a8562d9e",
   "metadata": {},
   "outputs": [],
   "source": [
    "def activation(z):\n",
    "    return 1/(1+np.exp(-z)) # 시그모이드 함수"
   ]
  },
  {
   "cell_type": "code",
   "execution_count": 5,
   "id": "ac0ab6a0",
   "metadata": {},
   "outputs": [],
   "source": [
    "def AND(x,y):\n",
    "    wx = 20\n",
    "    wy = 20\n",
    "    bias = -30\n",
    "    \n",
    "    if activation((wx*x + wy*y + bias)) < 0.5:\n",
    "        return 0\n",
    "    else:\n",
    "        return 1"
   ]
  },
  {
   "cell_type": "code",
   "execution_count": 6,
   "id": "6a04b001",
   "metadata": {},
   "outputs": [
    {
     "name": "stdout",
     "output_type": "stream",
     "text": [
      "x=0, y=0: 0\n",
      "x=0, y=1: 0\n",
      "x=1, y=0: 0\n",
      "x=1, y=1: 1\n"
     ]
    }
   ],
   "source": [
    "print(f'x=0, y=0: {AND(0,0)}')\n",
    "print(f'x=0, y=1: {AND(0,1)}')\n",
    "print(f'x=1, y=0: {AND(1,0)}')\n",
    "print(f'x=1, y=1: {AND(1,1)}')"
   ]
  },
  {
   "cell_type": "code",
   "execution_count": 8,
   "id": "b7db9a30",
   "metadata": {},
   "outputs": [],
   "source": [
    "def OR(x,y):\n",
    "    # or 게이트로 작동하기위한 웨이트값 코딩\n",
    "    wx = 20\n",
    "    wy = 20\n",
    "    bias = -10\n",
    "    \n",
    "    if activation((wx*x + wy*y+bias)) < 0.5:\n",
    "        return 0\n",
    "    else:\n",
    "        return 1"
   ]
  },
  {
   "cell_type": "code",
   "execution_count": 9,
   "id": "586f10df",
   "metadata": {},
   "outputs": [
    {
     "name": "stdout",
     "output_type": "stream",
     "text": [
      "x=0, y=0: 0\n",
      "x=0, y=1: 1\n",
      "x=1, y=0: 1\n",
      "x=1, y=1: 1\n"
     ]
    }
   ],
   "source": [
    "print(f'x=0, y=0: {OR(0,0)}')\n",
    "print(f'x=0, y=1: {OR(0,1)}')\n",
    "print(f'x=1, y=0: {OR(1,0)}')\n",
    "print(f'x=1, y=1: {OR(1,1)}')"
   ]
  },
  {
   "cell_type": "code",
   "execution_count": 10,
   "id": "78d1c2a3",
   "metadata": {},
   "outputs": [],
   "source": [
    "def NAND(x,y):\n",
    "    wx = -20\n",
    "    wy = -20\n",
    "    bias = 30\n",
    "    \n",
    "    if activation((wx*x + wy*y + bias )) < 0.5:\n",
    "        return 0\n",
    "    else:\n",
    "        return 1"
   ]
  },
  {
   "cell_type": "code",
   "execution_count": 11,
   "id": "17ae3e95",
   "metadata": {},
   "outputs": [
    {
     "name": "stdout",
     "output_type": "stream",
     "text": [
      "x=0, y=0: 1\n",
      "x=0, y=1: 1\n",
      "x=1, y=0: 1\n",
      "x=1, y=1: 0\n"
     ]
    }
   ],
   "source": [
    "print(f'x=0, y=0: {NAND(0,0)}')\n",
    "print(f'x=0, y=1: {NAND(0,1)}')\n",
    "print(f'x=1, y=0: {NAND(1,0)}')\n",
    "print(f'x=1, y=1: {NAND(1,1)}')"
   ]
  },
  {
   "cell_type": "code",
   "execution_count": 14,
   "id": "ecf725f7",
   "metadata": {},
   "outputs": [],
   "source": [
    "def NOR(x,y):\n",
    "    wx = -20\n",
    "    wy = -20\n",
    "    bias = 10\n",
    "    \n",
    "    if activation((wx*x + wy*y + bias)) < 0.5:\n",
    "        return 0\n",
    "    else:\n",
    "        return 1"
   ]
  },
  {
   "cell_type": "code",
   "execution_count": 15,
   "id": "fecfcafa",
   "metadata": {},
   "outputs": [
    {
     "name": "stdout",
     "output_type": "stream",
     "text": [
      "x=0, y=0: 1\n",
      "x=0, y=1: 0\n",
      "x=1, y=0: 0\n",
      "x=1, y=1: 0\n"
     ]
    }
   ],
   "source": [
    "print(f'x=0, y=0: {NOR(0,0)}')\n",
    "print(f'x=0, y=1: {NOR(0,1)}')\n",
    "print(f'x=1, y=0: {NOR(1,0)}')\n",
    "print(f'x=1, y=1: {NOR(1,1)}')"
   ]
  },
  {
   "cell_type": "code",
   "execution_count": 17,
   "id": "e8594654",
   "metadata": {},
   "outputs": [],
   "source": [
    "# 한번에 xor 구하는 방법\n",
    "def XOR1(x,y):\n",
    "    a = NOR(x,x)\n",
    "    b = NOR(y,y)\n",
    "    c = NOR(a,b)\n",
    "    d = NOR(x,y)\n",
    "    e = NOR(c,d)\n",
    "    \n",
    "    return e"
   ]
  },
  {
   "cell_type": "code",
   "execution_count": 18,
   "id": "0e58a9db",
   "metadata": {},
   "outputs": [
    {
     "name": "stdout",
     "output_type": "stream",
     "text": [
      "x=0, y=0: 0\n",
      "x=0, y=1: 1\n",
      "x=1, y=0: 1\n",
      "x=1, y=1: 0\n"
     ]
    }
   ],
   "source": [
    "print(f'x=0, y=0: {XOR1(0,0)}')\n",
    "print(f'x=0, y=1: {XOR1(0,1)}')\n",
    "print(f'x=1, y=0: {XOR1(1,0)}')\n",
    "print(f'x=1, y=1: {XOR1(1,1)}')"
   ]
  },
  {
   "cell_type": "code",
   "execution_count": 19,
   "id": "8bfc8079",
   "metadata": {},
   "outputs": [],
   "source": [
    "def XOR(x,y):\n",
    "    a = NAND(x,y)\n",
    "    b = OR(x,y)\n",
    "    c = AND(a,b)\n",
    "    \n",
    "    return c"
   ]
  },
  {
   "cell_type": "code",
   "execution_count": 21,
   "id": "940afcfe",
   "metadata": {},
   "outputs": [
    {
     "name": "stdout",
     "output_type": "stream",
     "text": [
      "x=0, y=0: 0\n",
      "x=0, y=1: 1\n",
      "x=1, y=0: 1\n",
      "x=1, y=1: 0\n"
     ]
    }
   ],
   "source": [
    "print(f'x=0, y=0: {XOR(0,0)}')\n",
    "print(f'x=0, y=1: {XOR(0,1)}')\n",
    "print(f'x=1, y=0: {XOR(1,0)}')\n",
    "print(f'x=1, y=1: {XOR(1,1)}')"
   ]
  },
  {
   "cell_type": "code",
   "execution_count": null,
   "id": "e4d523ab",
   "metadata": {},
   "outputs": [],
   "source": []
  }
 ],
 "metadata": {
  "kernelspec": {
   "display_name": "Python 3 (ipykernel)",
   "language": "python",
   "name": "python3"
  },
  "language_info": {
   "codemirror_mode": {
    "name": "ipython",
    "version": 3
   },
   "file_extension": ".py",
   "mimetype": "text/x-python",
   "name": "python",
   "nbconvert_exporter": "python",
   "pygments_lexer": "ipython3",
   "version": "3.8.13"
  }
 },
 "nbformat": 4,
 "nbformat_minor": 5
}
