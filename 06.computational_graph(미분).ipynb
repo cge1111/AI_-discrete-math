{
 "cells": [
  {
   "cell_type": "markdown",
   "id": "9e168ae1",
   "metadata": {},
   "source": [
    "> 구글 드라이브\n",
    "https://colab.research.google.com/drive/1MxnOC3jjaUceMadN4xyHpkdn3CB_M7NZ#scrollTo=V7PqViDdnsn2&uniqifier=1\n",
    "\n",
    "4월 인공지능 이산수학 pdf_156P"
   ]
  },
  {
   "cell_type": "code",
   "execution_count": 1,
   "id": "8a2c1042",
   "metadata": {},
   "outputs": [],
   "source": [
    "import numpy as np"
   ]
  },
  {
   "cell_type": "markdown",
   "id": "433542e3",
   "metadata": {},
   "source": [
    "$$\n",
    "y = e^{2x+1}\n",
    "$$"
   ]
  },
  {
   "cell_type": "code",
   "execution_count": 2,
   "id": "49210305",
   "metadata": {},
   "outputs": [],
   "source": [
    "def add(x,a):\n",
    "    return x+a, 1\n",
    "\n",
    "def mul(x,a):\n",
    "    return x-a, a\n",
    "\n",
    "def exp(x):\n",
    "    return np.exp(x), np.exp(x)"
   ]
  },
  {
   "cell_type": "code",
   "execution_count": 3,
   "id": "2124ac32",
   "metadata": {},
   "outputs": [
    {
     "name": "stdout",
     "output_type": "stream",
     "text": [
      "f(1.5)=1.649\n",
      "f'(1.5)=3.297\n"
     ]
    }
   ],
   "source": [
    "x0 = 1.5\n",
    "\n",
    "a, dx0 = mul(x0,2)\n",
    "b, da = add(a,1)\n",
    "y, db = exp(b)\n",
    "\n",
    "print(f\"f({x0})={y:.3f}\")\n",
    "print(f\"f'({x0})={dx0*da*db:.3f}\")"
   ]
  },
  {
   "cell_type": "code",
   "execution_count": 4,
   "id": "8c0ce035",
   "metadata": {},
   "outputs": [
    {
     "data": {
      "text/plain": [
       "(54.598150033144236, 109.19630006628847)"
      ]
     },
     "execution_count": 4,
     "metadata": {},
     "output_type": "execute_result"
    }
   ],
   "source": [
    "np.exp(2*x0+1), 2*np.exp(2*x0+1)"
   ]
  },
  {
   "cell_type": "markdown",
   "id": "c8655066",
   "metadata": {},
   "source": [
    "$$\n",
    "y = \\left( \\frac{\\sqrt{x}}{2} - 1 \\right)^{-10}\n",
    "$$"
   ]
  },
  {
   "cell_type": "code",
   "execution_count": 6,
   "id": "2f913c87",
   "metadata": {},
   "outputs": [],
   "source": [
    "import sympy as S"
   ]
  },
  {
   "cell_type": "code",
   "execution_count": 7,
   "id": "03c69aed",
   "metadata": {},
   "outputs": [
    {
     "data": {
      "text/latex": [
       "$\\displaystyle \\frac{1}{\\left(\\frac{\\sqrt{x}}{2} - 1\\right)^{10}}$"
      ],
      "text/plain": [
       "(sqrt(x)/2 - 1)**(-10)"
      ]
     },
     "execution_count": 7,
     "metadata": {},
     "output_type": "execute_result"
    }
   ],
   "source": [
    "x = S.Symbol('x')\n",
    "\n",
    "y = (S.sqrt(x)/2-1)**(-10)\n",
    "y"
   ]
  },
  {
   "cell_type": "code",
   "execution_count": 9,
   "id": "854f4734",
   "metadata": {},
   "outputs": [
    {
     "data": {
      "text/latex": [
       "$\\displaystyle - \\frac{5}{2 \\sqrt{x} \\left(\\frac{\\sqrt{x}}{2} - 1\\right)^{11}}$"
      ],
      "text/plain": [
       "-5/(2*sqrt(x)*(sqrt(x)/2 - 1)**11)"
      ]
     },
     "execution_count": 9,
     "metadata": {},
     "output_type": "execute_result"
    }
   ],
   "source": [
    "dy = S.diff(y,x)\n",
    "dy"
   ]
  },
  {
   "cell_type": "code",
   "execution_count": 10,
   "id": "cf3a391f",
   "metadata": {},
   "outputs": [
    {
     "name": "stdout",
     "output_type": "stream",
     "text": [
      "f(1)=1024\n",
      "f'(1)=5120\n"
     ]
    }
   ],
   "source": [
    "x0 = 1\n",
    "print(f\"f({x0})={y.subs({x:x0})}\" )\n",
    "print(f\"f'({x0})={dy.subs({x:x0})}\" )"
   ]
  },
  {
   "cell_type": "code",
   "execution_count": 11,
   "id": "fbc6e750",
   "metadata": {},
   "outputs": [],
   "source": [
    "def pow(x,n):\n",
    "    return x**n, n*x**(n-1)"
   ]
  },
  {
   "cell_type": "code",
   "execution_count": 12,
   "id": "fd38387e",
   "metadata": {},
   "outputs": [
    {
     "name": "stdout",
     "output_type": "stream",
     "text": [
      "f(1)=(sqrt(x)/2 - 1)**(-10)\n",
      "f'(1)=5120.0\n"
     ]
    }
   ],
   "source": [
    "x0 = 1\n",
    "\n",
    "a, dx0 = pow(x0, (1/2))\n",
    "b, da = mul(a, (1/2))\n",
    "c, db = add(b, -1)\n",
    "d, dc = pow(c, -10)\n",
    "\n",
    "print(f\"f({x0})={y}\")\n",
    "print(f\"f'({x0})={dc*db*da*dx0}\")"
   ]
  },
  {
   "cell_type": "code",
   "execution_count": null,
   "id": "f710da57",
   "metadata": {},
   "outputs": [],
   "source": []
  }
 ],
 "metadata": {
  "kernelspec": {
   "display_name": "Python 3 (ipykernel)",
   "language": "python",
   "name": "python3"
  },
  "language_info": {
   "codemirror_mode": {
    "name": "ipython",
    "version": 3
   },
   "file_extension": ".py",
   "mimetype": "text/x-python",
   "name": "python",
   "nbconvert_exporter": "python",
   "pygments_lexer": "ipython3",
   "version": "3.8.13"
  }
 },
 "nbformat": 4,
 "nbformat_minor": 5
}
